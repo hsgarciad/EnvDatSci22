{
  "nbformat": 4,
  "nbformat_minor": 0,
  "metadata": {
    "colab": {
      "provenance": [],
      "authorship_tag": "ABX9TyPUfmY0R1fwqN7at39CCmth",
      "include_colab_link": true
    },
    "kernelspec": {
      "name": "python3",
      "display_name": "Python 3"
    },
    "language_info": {
      "name": "python"
    }
  },
  "cells": [
    {
      "cell_type": "markdown",
      "metadata": {
        "id": "view-in-github",
        "colab_type": "text"
      },
      "source": [
        "<a href=\"https://colab.research.google.com/github/hsgarciad/EnvDatSci22/blob/master/DataScienceProject_DataCollection.ipynb\" target=\"_parent\"><img src=\"https://colab.research.google.com/assets/colab-badge.svg\" alt=\"Open In Colab\"/></a>"
      ]
    },
    {
      "cell_type": "markdown",
      "source": [
        "Step 1. Mount Google Drive working folder"
      ],
      "metadata": {
        "id": "-4eP3jopEYpl"
      }
    },
    {
      "cell_type": "code",
      "source": [
        "#Attach to Google Drive\n",
        "from google.colab import drive\n",
        "drive.mount('/content/drive')"
      ],
      "metadata": {
        "colab": {
          "base_uri": "https://localhost:8080/"
        },
        "id": "CgaIV-PVLlE2",
        "outputId": "5c86eb6a-845b-4297-b18b-5c27d75c5c14"
      },
      "execution_count": 2,
      "outputs": [
        {
          "output_type": "stream",
          "name": "stdout",
          "text": [
            "Mounted at /content/drive\n"
          ]
        }
      ]
    },
    {
      "cell_type": "markdown",
      "source": [
        "Step 2. Import libraries, modules, and packages necessary to work with geospatial data"
      ],
      "metadata": {
        "id": "bRn_LQ1jzCC4"
      }
    },
    {
      "cell_type": "code",
      "execution_count": null,
      "metadata": {
        "id": "4EfhiD3yD3oH"
      },
      "outputs": [],
      "source": [
        "#Import libraries and packages\n",
        "%matplotlib inline\n",
        "\n",
        "import sys\n",
        "from glob import glob\n",
        "from osgeo import ogr, gdal, gdal_array\n",
        "from osgeo import gdalconst\n",
        "import subprocess\n",
        "\n",
        "import pandas as pd\n",
        "\n",
        "import matplotlib.pyplot as plt\n",
        "from matplotlib.patches import Patch\n",
        "from matplotlib.colors import ListedColormap, BoundaryNorm\n",
        "%matplotlib inline\n",
        "import numpy as np\n",
        "\n",
        "import seaborn as sns\n",
        "\n",
        "!pip install geopandas\n",
        "import geopandas as gpd\n",
        "!pip install pycrs\n",
        "import pycrs\n",
        "import fiona\n",
        "from fiona.crs import from_epsg\n",
        "from shapely.geometry import box\n",
        "from shapely.geometry import Point\n",
        "import shapely.geometry as geoms\n",
        "\n",
        "!pip install rasterio\n",
        "import rasterio as rio\n",
        "from rasterio.plot import show\n",
        "import rasterio.warp\n",
        "import rasterio.shutil\n",
        "from rasterio.warp import calculate_default_transform, reproject, Resampling\n",
        "from rasterio.plot import plotting_extent\n",
        "from rasterio.plot import show_hist\n",
        "from rasterio.mask import mask\n",
        "from rasterio.merge import merge\n",
        "from rasterio import Affine, MemoryFile\n",
        "from rasterio.enums import Resampling\n",
        "from rasterio import plot\n",
        "\n",
        "!pip install rasterstats\n",
        "import rasterstats as rs\n",
        "!pip install georasters\n",
        "import georasters as gr\n",
        "\n",
        "!pip install earthpy\n",
        "import earthpy.spatial as es\n",
        "import earthpy.plot as ep\n",
        "import earthpy as et\n",
        "\n",
        "from sklearn.model_selection import train_test_split \n",
        "from sklearn.linear_model import LinearRegression\n",
        "from sklearn import metrics\n",
        "from sklearn.model_selection import cross_val_score\n",
        "from sklearn.model_selection import KFold\n",
        "from sklearn.model_selection import cross_val_predict\n",
        "from sklearn.model_selection import cross_validate"
      ]
    },
    {
      "cell_type": "markdown",
      "source": [
        "Step 2.1 I loaded up the raster datasets with rasterio but then I decided to use gdal"
      ],
      "metadata": {
        "id": "nmZwBsY9yZl9"
      }
    },
    {
      "cell_type": "code",
      "source": [
        "#ndvi_path = '/content/drive/MyDrive/Data/ClassProject/NDVI_chicamocha.tif'\n",
        "#ndvi_chica=rio.open(ndvi_path)\n",
        "#train_path = '/content/drive/MyDrive/Data/ClassProject/training_land.tif'\n",
        "#training_chica=rio.open(train_path)\n",
        "#show(ndvi_chica,cmap='RdYlGn')"
      ],
      "metadata": {
        "id": "KR9O-lsiUgNe"
      },
      "execution_count": null,
      "outputs": []
    },
    {
      "cell_type": "markdown",
      "source": [
        "Step 3. Here I load up the raster data (NDVI and Land cover) of the Chicamocha River Canyon and proceed to convert them into an array"
      ],
      "metadata": {
        "id": "SiGwDIj7yig1"
      }
    },
    {
      "cell_type": "code",
      "source": [
        "#Load NDVI and training data using gdal and create a gdal array\n",
        "gdal.UseExceptions()\n",
        "gdal.AllRegister()\n",
        "ndvi_chica = gdal.Open('/content/drive/MyDrive/Data/ClassProject/NDVI_chicamocha.tif', gdal.GA_ReadOnly)\n",
        "training_chica = gdal.Open('/content/drive/MyDrive/Data/ClassProject/training_land.tif', gdal.GA_ReadOnly)\n",
        "\n",
        "ndvi_ar = np.zeros((ndvi_chica.RasterYSize, ndvi_chica.RasterXSize, ndvi_chica.RasterCount),\n",
        "               gdal_array.GDALTypeCodeToNumericTypeCode(ndvi_chica.GetRasterBand(1).DataType))\n",
        "for b in range(img.shape[2]):\n",
        "    img[:, :, b] = ndvi_chica.GetRasterBand(b + 1).ReadAsArray()\n",
        "training_ar = training_chica.GetRasterBand(1).ReadAsArray().astype(np.uint8)\n"
      ],
      "metadata": {
        "id": "jEK8bt8kK6wa"
      },
      "execution_count": 8,
      "outputs": []
    },
    {
      "cell_type": "markdown",
      "source": [
        "Step 3.1 Display the converted datasets"
      ],
      "metadata": {
        "id": "KF7G363-zm31"
      }
    },
    {
      "cell_type": "code",
      "source": [
        "plt.subplot(122)\n",
        "plt.imshow(training_ar, cmap=plt.cm.Spectral)\n",
        "plt.title('Training data - Land cover')\n",
        "\n",
        "plt.subplot(121)\n",
        "plt.imshow(ndvi_ar[:, :, 4], cmap=plt.cm.Greys_r)\n",
        "plt.title('NDVI - Chicamocha River canyon')\n",
        "\n",
        "plt.show()"
      ],
      "metadata": {
        "colab": {
          "base_uri": "https://localhost:8080/",
          "height": 487
        },
        "id": "AHSzMOHBVAAp",
        "outputId": "d300b80a-328e-4357-c71f-fe8c4e19a6dd"
      },
      "execution_count": 7,
      "outputs": [
        {
          "output_type": "error",
          "ename": "IndexError",
          "evalue": "ignored",
          "traceback": [
            "\u001b[0;31m---------------------------------------------------------------------------\u001b[0m",
            "\u001b[0;31mIndexError\u001b[0m                                Traceback (most recent call last)",
            "\u001b[0;32m<ipython-input-7-41bd140f7889>\u001b[0m in \u001b[0;36m<module>\u001b[0;34m\u001b[0m\n\u001b[1;32m      4\u001b[0m \u001b[0;34m\u001b[0m\u001b[0m\n\u001b[1;32m      5\u001b[0m \u001b[0mplt\u001b[0m\u001b[0;34m.\u001b[0m\u001b[0msubplot\u001b[0m\u001b[0;34m(\u001b[0m\u001b[0;36m121\u001b[0m\u001b[0;34m)\u001b[0m\u001b[0;34m\u001b[0m\u001b[0;34m\u001b[0m\u001b[0m\n\u001b[0;32m----> 6\u001b[0;31m \u001b[0mplt\u001b[0m\u001b[0;34m.\u001b[0m\u001b[0mimshow\u001b[0m\u001b[0;34m(\u001b[0m\u001b[0mndvi_ar\u001b[0m\u001b[0;34m[\u001b[0m\u001b[0;34m:\u001b[0m\u001b[0;34m,\u001b[0m \u001b[0;34m:\u001b[0m\u001b[0;34m,\u001b[0m \u001b[0;36m4\u001b[0m\u001b[0;34m]\u001b[0m\u001b[0;34m,\u001b[0m \u001b[0mcmap\u001b[0m\u001b[0;34m=\u001b[0m\u001b[0mplt\u001b[0m\u001b[0;34m.\u001b[0m\u001b[0mcm\u001b[0m\u001b[0;34m.\u001b[0m\u001b[0mGreys_r\u001b[0m\u001b[0;34m)\u001b[0m\u001b[0;34m\u001b[0m\u001b[0;34m\u001b[0m\u001b[0m\n\u001b[0m\u001b[1;32m      7\u001b[0m \u001b[0mplt\u001b[0m\u001b[0;34m.\u001b[0m\u001b[0mtitle\u001b[0m\u001b[0;34m(\u001b[0m\u001b[0;34m'NDVI - Chicamocha River canyon'\u001b[0m\u001b[0;34m)\u001b[0m\u001b[0;34m\u001b[0m\u001b[0;34m\u001b[0m\u001b[0m\n\u001b[1;32m      8\u001b[0m \u001b[0;34m\u001b[0m\u001b[0m\n",
            "\u001b[0;31mIndexError\u001b[0m: index 4 is out of bounds for axis 2 with size 1"
          ]
        },
        {
          "output_type": "display_data",
          "data": {
            "text/plain": [
              "<Figure size 432x288 with 2 Axes>"
            ],
            "image/png": "[encoded data removed]"
          },
          "metadata": {
            "needs_background": "light"
          }
        }
      ]
    }
  ]
}